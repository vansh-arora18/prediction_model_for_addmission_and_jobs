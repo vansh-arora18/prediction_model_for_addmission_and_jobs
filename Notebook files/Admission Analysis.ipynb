{
 "cells": [
  {
   "cell_type": "markdown",
   "id": "937c4c98",
   "metadata": {},
   "source": [
    "# Admission Analysis"
   ]
  },
  {
   "cell_type": "code",
   "execution_count": 1,
   "id": "1bde1ac8",
   "metadata": {},
   "outputs": [
    {
     "data": {
      "text/html": [
       "<div>\n",
       "<style scoped>\n",
       "    .dataframe tbody tr th:only-of-type {\n",
       "        vertical-align: middle;\n",
       "    }\n",
       "\n",
       "    .dataframe tbody tr th {\n",
       "        vertical-align: top;\n",
       "    }\n",
       "\n",
       "    .dataframe thead th {\n",
       "        text-align: right;\n",
       "    }\n",
       "</style>\n",
       "<table border=\"1\" class=\"dataframe\">\n",
       "  <thead>\n",
       "    <tr style=\"text-align: right;\">\n",
       "      <th></th>\n",
       "      <th>YEAR</th>\n",
       "      <th>COURSE</th>\n",
       "      <th>NO. OF ADMISSIONS</th>\n",
       "    </tr>\n",
       "  </thead>\n",
       "  <tbody>\n",
       "    <tr>\n",
       "      <th>0</th>\n",
       "      <td>2010</td>\n",
       "      <td>computer science</td>\n",
       "      <td>814</td>\n",
       "    </tr>\n",
       "    <tr>\n",
       "      <th>1</th>\n",
       "      <td>2010</td>\n",
       "      <td>artificial Intelligence and machine learning</td>\n",
       "      <td>400</td>\n",
       "    </tr>\n",
       "    <tr>\n",
       "      <th>2</th>\n",
       "      <td>2010</td>\n",
       "      <td>cloud computing</td>\n",
       "      <td>345</td>\n",
       "    </tr>\n",
       "    <tr>\n",
       "      <th>3</th>\n",
       "      <td>2010</td>\n",
       "      <td>information security</td>\n",
       "      <td>678</td>\n",
       "    </tr>\n",
       "    <tr>\n",
       "      <th>4</th>\n",
       "      <td>2010</td>\n",
       "      <td>Big data</td>\n",
       "      <td>111</td>\n",
       "    </tr>\n",
       "  </tbody>\n",
       "</table>\n",
       "</div>"
      ],
      "text/plain": [
       "   YEAR                                        COURSE  NO. OF ADMISSIONS\n",
       "0  2010                              computer science                814\n",
       "1  2010  artificial Intelligence and machine learning                400\n",
       "2  2010                               cloud computing                345\n",
       "3  2010                          information security                678\n",
       "4  2010                                      Big data                111"
      ]
     },
     "execution_count": 1,
     "metadata": {},
     "output_type": "execute_result"
    }
   ],
   "source": [
    "#import packages\n",
    "import pandas as pd\n",
    "import numpy as np\n",
    "import seaborn as sns\n",
    "\n",
    "#to plot within notebook\n",
    "import matplotlib.pyplot as plt\n",
    "%matplotlib inline\n",
    "\n",
    "#setting figure size\n",
    "from matplotlib.pylab import rcParams\n",
    "rcParams['figure.figsize'] = 20,10\n",
    "\n",
    "#for normalizing data\n",
    "from sklearn.preprocessing import MinMaxScaler\n",
    "scaler = MinMaxScaler(feature_range=(0, 1))\n",
    "\n",
    "#read the file\n",
    "df = pd.read_csv('admissions.csv')\n",
    "\n",
    "#print the head\n",
    "df.head()"
   ]
  },
  {
   "cell_type": "code",
   "execution_count": 2,
   "id": "ed6fdbf6",
   "metadata": {},
   "outputs": [
    {
     "data": {
      "text/html": [
       "<div>\n",
       "<style scoped>\n",
       "    .dataframe tbody tr th:only-of-type {\n",
       "        vertical-align: middle;\n",
       "    }\n",
       "\n",
       "    .dataframe tbody tr th {\n",
       "        vertical-align: top;\n",
       "    }\n",
       "\n",
       "    .dataframe thead th {\n",
       "        text-align: right;\n",
       "    }\n",
       "</style>\n",
       "<table border=\"1\" class=\"dataframe\">\n",
       "  <thead>\n",
       "    <tr style=\"text-align: right;\">\n",
       "      <th></th>\n",
       "      <th>YEAR</th>\n",
       "      <th>COURSE</th>\n",
       "      <th>NO. OF ADMISSIONS</th>\n",
       "    </tr>\n",
       "  </thead>\n",
       "  <tbody>\n",
       "    <tr>\n",
       "      <th>0</th>\n",
       "      <td>False</td>\n",
       "      <td>False</td>\n",
       "      <td>False</td>\n",
       "    </tr>\n",
       "    <tr>\n",
       "      <th>1</th>\n",
       "      <td>False</td>\n",
       "      <td>False</td>\n",
       "      <td>False</td>\n",
       "    </tr>\n",
       "    <tr>\n",
       "      <th>2</th>\n",
       "      <td>False</td>\n",
       "      <td>False</td>\n",
       "      <td>False</td>\n",
       "    </tr>\n",
       "    <tr>\n",
       "      <th>3</th>\n",
       "      <td>False</td>\n",
       "      <td>False</td>\n",
       "      <td>False</td>\n",
       "    </tr>\n",
       "    <tr>\n",
       "      <th>4</th>\n",
       "      <td>False</td>\n",
       "      <td>False</td>\n",
       "      <td>False</td>\n",
       "    </tr>\n",
       "    <tr>\n",
       "      <th>...</th>\n",
       "      <td>...</td>\n",
       "      <td>...</td>\n",
       "      <td>...</td>\n",
       "    </tr>\n",
       "    <tr>\n",
       "      <th>163</th>\n",
       "      <td>False</td>\n",
       "      <td>False</td>\n",
       "      <td>False</td>\n",
       "    </tr>\n",
       "    <tr>\n",
       "      <th>164</th>\n",
       "      <td>False</td>\n",
       "      <td>False</td>\n",
       "      <td>False</td>\n",
       "    </tr>\n",
       "    <tr>\n",
       "      <th>165</th>\n",
       "      <td>False</td>\n",
       "      <td>False</td>\n",
       "      <td>False</td>\n",
       "    </tr>\n",
       "    <tr>\n",
       "      <th>166</th>\n",
       "      <td>False</td>\n",
       "      <td>False</td>\n",
       "      <td>False</td>\n",
       "    </tr>\n",
       "    <tr>\n",
       "      <th>167</th>\n",
       "      <td>False</td>\n",
       "      <td>False</td>\n",
       "      <td>False</td>\n",
       "    </tr>\n",
       "  </tbody>\n",
       "</table>\n",
       "<p>168 rows × 3 columns</p>\n",
       "</div>"
      ],
      "text/plain": [
       "      YEAR  COURSE  NO. OF ADMISSIONS\n",
       "0    False   False              False\n",
       "1    False   False              False\n",
       "2    False   False              False\n",
       "3    False   False              False\n",
       "4    False   False              False\n",
       "..     ...     ...                ...\n",
       "163  False   False              False\n",
       "164  False   False              False\n",
       "165  False   False              False\n",
       "166  False   False              False\n",
       "167  False   False              False\n",
       "\n",
       "[168 rows x 3 columns]"
      ]
     },
     "execution_count": 2,
     "metadata": {},
     "output_type": "execute_result"
    }
   ],
   "source": [
    "df.isnull()"
   ]
  },
  {
   "cell_type": "code",
   "execution_count": 3,
   "id": "0ccace84",
   "metadata": {},
   "outputs": [
    {
     "data": {
      "text/plain": [
       "<AxesSubplot:xlabel='YEAR', ylabel='NO. OF ADMISSIONS'>"
      ]
     },
     "execution_count": 3,
     "metadata": {},
     "output_type": "execute_result"
    },
    {
     "data": {
      "image/png": "[encoded data removed]",
      "text/plain": [
       "<Figure size 1440x540 with 1 Axes>"
      ]
     },
     "metadata": {
      "needs_background": "light"
     },
     "output_type": "display_data"
    }
   ],
   "source": [
    "data=df\n",
    "plt.figure(figsize=[20, 7.5]) # Set dimensions for figure\n",
    "sns.barplot(x=data['YEAR'], y=data['NO. OF ADMISSIONS'], hue='COURSE', data=data)\n",
    "# plt.title('Scientific and technical journal articles')\n",
    "# plt.ylabel('Scientific and technical journal articles')\n",
    "# plt.xlabel('Year')"
   ]
  },
  {
   "cell_type": "code",
   "execution_count": 4,
   "id": "db134503",
   "metadata": {},
   "outputs": [
    {
     "data": {
      "text/plain": [
       "array(['Automobile Engineering', 'Big data', 'Civil Engineering',\n",
       "       'Electrical Engineering ', 'Internet of things',\n",
       "       'Mechanical Engineering',\n",
       "       'artificial Intelligence and machine learning', 'cloud computing',\n",
       "       'computer application', 'computer science',\n",
       "       'electronics and communication engineering',\n",
       "       'information security'], dtype=object)"
      ]
     },
     "execution_count": 4,
     "metadata": {},
     "output_type": "execute_result"
    }
   ],
   "source": [
    "np.unique(df['COURSE'])"
   ]
  },
  {
   "cell_type": "code",
   "execution_count": 5,
   "id": "b1150b9d",
   "metadata": {},
   "outputs": [
    {
     "name": "stdout",
     "output_type": "stream",
     "text": [
      "     YEAR            COURSE  NO. OF ADMISSIONS\n",
      "0    2010  computer science                814\n",
      "12   2011  computer science                735\n",
      "24   2012  computer science                670\n",
      "36   2013  computer science                351\n",
      "48   2014  computer science                413\n",
      "60   2015  computer science                717\n",
      "72   2016  computer science                744\n",
      "84   2017  computer science                812\n",
      "96   2018  computer science                972\n",
      "108  2019  computer science                848\n",
      "120  2020  computer science                935\n",
      "132  2021  computer science               1120\n",
      "144  2022  computer science               1393\n",
      "156  2023  computer science               1098\n"
     ]
    }
   ],
   "source": [
    "specialisation1 = df.loc[df['COURSE'] == 'computer science']\n",
    "print(specialisation1)"
   ]
  },
  {
   "cell_type": "code",
   "execution_count": 6,
   "id": "275d7c57",
   "metadata": {},
   "outputs": [
    {
     "data": {
      "text/plain": [
       "<AxesSubplot:xlabel='YEAR', ylabel='NO. OF ADMISSIONS'>"
      ]
     },
     "execution_count": 6,
     "metadata": {},
     "output_type": "execute_result"
    },
    {
     "data": {
      "image/png": "[encoded data removed]",
      "text/plain": [
       "<Figure size 1440x540 with 1 Axes>"
      ]
     },
     "metadata": {
      "needs_background": "light"
     },
     "output_type": "display_data"
    }
   ],
   "source": [
    "graph=specialisation1\n",
    "plt.figure(figsize=[20, 7.5]) # Set dimensions for figure\n",
    "sns.barplot(x=graph['YEAR'], y=data['NO. OF ADMISSIONS'], hue='COURSE', data=graph)"
   ]
  },
  {
   "cell_type": "code",
   "execution_count": 7,
   "id": "9bb17834",
   "metadata": {},
   "outputs": [
    {
     "name": "stdout",
     "output_type": "stream",
     "text": [
      "     YEAR                                        COURSE  NO. OF ADMISSIONS\n",
      "1    2010  artificial Intelligence and machine learning                400\n",
      "13   2011  artificial Intelligence and machine learning                455\n",
      "25   2012  artificial Intelligence and machine learning                555\n",
      "37   2013  artificial Intelligence and machine learning                460\n",
      "49   2014  artificial Intelligence and machine learning                389\n",
      "61   2015  artificial Intelligence and machine learning                674\n",
      "73   2016  artificial Intelligence and machine learning                551\n",
      "85   2017  artificial Intelligence and machine learning                658\n",
      "97   2018  artificial Intelligence and machine learning                977\n",
      "109  2019  artificial Intelligence and machine learning               1018\n",
      "121  2020  artificial Intelligence and machine learning               1048\n",
      "133  2021  artificial Intelligence and machine learning               1197\n",
      "145  2022  artificial Intelligence and machine learning               1114\n",
      "157  2023  artificial Intelligence and machine learning               1067\n"
     ]
    }
   ],
   "source": [
    "specialisation2 = df.loc[df['COURSE'] == 'artificial Intelligence and machine learning']\n",
    "print(specialisation2)"
   ]
  },
  {
   "cell_type": "code",
   "execution_count": 8,
   "id": "59ad4bb6",
   "metadata": {},
   "outputs": [
    {
     "data": {
      "text/plain": [
       "<AxesSubplot:xlabel='YEAR', ylabel='NO. OF ADMISSIONS'>"
      ]
     },
     "execution_count": 8,
     "metadata": {},
     "output_type": "execute_result"
    },
    {
     "data": {
      "image/png": "[encoded data removed]",
      "text/plain": [
       "<Figure size 1440x540 with 1 Axes>"
      ]
     },
     "metadata": {
      "needs_background": "light"
     },
     "output_type": "display_data"
    }
   ],
   "source": [
    "graph_aiml = specialisation2\n",
    "plt.figure(figsize=[20, 7.5]) # Set dimensions for figure\n",
    "sns.barplot(x=graph_aiml['YEAR'], y=data['NO. OF ADMISSIONS'], hue='COURSE', data=graph_aiml)"
   ]
  },
  {
   "cell_type": "code",
   "execution_count": 9,
   "id": "971ec664",
   "metadata": {
    "scrolled": true
   },
   "outputs": [
    {
     "name": "stdout",
     "output_type": "stream",
     "text": [
      "     YEAR                  COURSE  NO. OF ADMISSIONS\n",
      "6    2010  Mechanical Engineering                900\n",
      "18   2011  Mechanical Engineering                876\n",
      "30   2012  Mechanical Engineering                729\n",
      "42   2013  Mechanical Engineering                397\n",
      "54   2014  Mechanical Engineering                768\n",
      "66   2015  Mechanical Engineering                961\n",
      "78   2016  Mechanical Engineering                494\n",
      "90   2017  Mechanical Engineering                699\n",
      "102  2018  Mechanical Engineering                804\n",
      "114  2019  Mechanical Engineering                964\n",
      "126  2020  Mechanical Engineering                772\n",
      "138  2021  Mechanical Engineering                820\n",
      "150  2022  Mechanical Engineering                675\n",
      "162  2023  Mechanical Engineering                444\n"
     ]
    }
   ],
   "source": [
    "specialisation3 = df.loc[df['COURSE'] == 'Mechanical Engineering']\n",
    "print(specialisation3)"
   ]
  },
  {
   "cell_type": "code",
   "execution_count": 10,
   "id": "d864f2af",
   "metadata": {},
   "outputs": [
    {
     "data": {
      "text/plain": [
       "<AxesSubplot:xlabel='YEAR', ylabel='NO. OF ADMISSIONS'>"
      ]
     },
     "execution_count": 10,
     "metadata": {},
     "output_type": "execute_result"
    },
    {
     "data": {
      "image/png": "[encoded data removed]",
      "text/plain": [
       "<Figure size 1440x540 with 1 Axes>"
      ]
     },
     "metadata": {
      "needs_background": "light"
     },
     "output_type": "display_data"
    }
   ],
   "source": [
    "graph_me = specialisation3\n",
    "plt.figure(figsize=[20, 7.5]) # Set dimensions for figure\n",
    "sns.barplot(x=graph_me['YEAR'], y=data['NO. OF ADMISSIONS'], hue='COURSE', data=graph_me)"
   ]
  },
  {
   "cell_type": "code",
   "execution_count": 12,
   "id": "d00b9731",
   "metadata": {},
   "outputs": [
    {
     "name": "stdout",
     "output_type": "stream",
     "text": [
      "['Automobile Engineering' 'Big data' 'Civil Engineering'\n",
      " 'Electrical Engineering ' 'Internet of things' 'Mechanical Engineering'\n",
      " 'artificial Intelligence and machine learning' 'cloud computing'\n",
      " 'computer application' 'computer science'\n",
      " 'electronics and communication engineering' 'information security']\n"
     ]
    },
    {
     "data": {
      "text/html": [
       "<div>\n",
       "<style scoped>\n",
       "    .dataframe tbody tr th:only-of-type {\n",
       "        vertical-align: middle;\n",
       "    }\n",
       "\n",
       "    .dataframe tbody tr th {\n",
       "        vertical-align: top;\n",
       "    }\n",
       "\n",
       "    .dataframe thead th {\n",
       "        text-align: right;\n",
       "    }\n",
       "</style>\n",
       "<table border=\"1\" class=\"dataframe\">\n",
       "  <thead>\n",
       "    <tr style=\"text-align: right;\">\n",
       "      <th></th>\n",
       "      <th>YEAR</th>\n",
       "      <th>COURSE</th>\n",
       "      <th>NO. OF ADMISSIONS</th>\n",
       "    </tr>\n",
       "  </thead>\n",
       "  <tbody>\n",
       "    <tr>\n",
       "      <th>0</th>\n",
       "      <td>2010</td>\n",
       "      <td>10</td>\n",
       "      <td>814</td>\n",
       "    </tr>\n",
       "    <tr>\n",
       "      <th>1</th>\n",
       "      <td>2010</td>\n",
       "      <td>7</td>\n",
       "      <td>400</td>\n",
       "    </tr>\n",
       "    <tr>\n",
       "      <th>2</th>\n",
       "      <td>2010</td>\n",
       "      <td>8</td>\n",
       "      <td>345</td>\n",
       "    </tr>\n",
       "    <tr>\n",
       "      <th>3</th>\n",
       "      <td>2010</td>\n",
       "      <td>12</td>\n",
       "      <td>678</td>\n",
       "    </tr>\n",
       "    <tr>\n",
       "      <th>4</th>\n",
       "      <td>2010</td>\n",
       "      <td>2</td>\n",
       "      <td>111</td>\n",
       "    </tr>\n",
       "  </tbody>\n",
       "</table>\n",
       "</div>"
      ],
      "text/plain": [
       "   YEAR  COURSE  NO. OF ADMISSIONS\n",
       "0  2010      10                814\n",
       "1  2010       7                400\n",
       "2  2010       8                345\n",
       "3  2010      12                678\n",
       "4  2010       2                111"
      ]
     },
     "execution_count": 12,
     "metadata": {},
     "output_type": "execute_result"
    }
   ],
   "source": [
    "courses=np.unique(df['COURSE'])\n",
    "print(courses)\n",
    "clg_code=[]\n",
    "for i in range(len(courses)):\n",
    "    clg_code.append(i+1)\n",
    "# clg_code\n",
    "df['COURSE']=df['COURSE'].replace(courses,clg_code)\n",
    "bak_college=np.array(df['COURSE'])\n",
    "df.head()"
   ]
  },
  {
   "cell_type": "code",
   "execution_count": 13,
   "id": "d929770f",
   "metadata": {},
   "outputs": [],
   "source": [
    "from sklearn import datasets, linear_model\n",
    "from sklearn.model_selection import train_test_split\n",
    "\n",
    "# Using only one feature\n",
    "x = df.iloc[:, 1].values\n",
    "y = df.iloc[:, 2].values\n",
    "\n",
    "# Split the data\n",
    "x_train, x_test, y_train, y_test = train_test_split(x, y, test_size= 0.2, random_state=0)"
   ]
  },
  {
   "cell_type": "code",
   "execution_count": 14,
   "id": "0e49c610",
   "metadata": {},
   "outputs": [
    {
     "data": {
      "text/plain": [
       "array([10,  7,  8, 12,  2,  5,  6,  4,  1,  9, 11,  3, 10,  7,  8, 12,  2,\n",
       "        5,  6,  4,  1,  9, 11,  3, 10,  7,  8, 12,  2,  5,  6,  4,  1,  9,\n",
       "       11,  3, 10,  7,  8, 12,  2,  5,  6,  4,  1,  9, 11,  3, 10,  7,  8,\n",
       "       12,  2,  5,  6,  4,  1,  9, 11,  3, 10,  7,  8, 12,  2,  5,  6,  4,\n",
       "        1,  9, 11,  3, 10,  7,  8, 12,  2,  5,  6,  4,  1,  9, 11,  3, 10,\n",
       "        7,  8, 12,  2,  5,  6,  4,  1,  9, 11,  3, 10,  7,  8, 12,  2,  5,\n",
       "        6,  4,  1,  9, 11,  3, 10,  7,  8, 12,  2,  5,  6,  4,  1,  9, 11,\n",
       "        3, 10,  7,  8, 12,  2,  5,  6,  4,  1,  9, 11,  3, 10,  7,  8, 12,\n",
       "        2,  5,  6,  4,  1,  9, 11,  3, 10,  7,  8, 12,  2,  5,  6,  4,  1,\n",
       "        9, 11,  3, 10,  7,  8, 12,  2,  5,  6,  4,  1,  9, 11,  3],\n",
       "      dtype=int64)"
      ]
     },
     "execution_count": 14,
     "metadata": {},
     "output_type": "execute_result"
    }
   ],
   "source": [
    "x"
   ]
  },
  {
   "cell_type": "code",
   "execution_count": 15,
   "id": "52c2db01",
   "metadata": {},
   "outputs": [
    {
     "data": {
      "text/plain": [
       "array([ 814,  400,  345,  678,  111,  647,  900,  788,  830,  890,  443,\n",
       "        607,  735,  455,  234,  498,  123,  646,  876,  640,  311,  790,\n",
       "        815,  443,  670,  555,  945,  617,  345,  583,  729,  610,  997,\n",
       "        743,  693,  788,  351,  460,  896,  353,  684,  459,  397,  601,\n",
       "        900,  333,  590,  453,  413,  389,  267,  699,  397,  890,  768,\n",
       "        330,  715,  403,  922, 1057,  717,  674,  462, 1005,  475,  852,\n",
       "        961,  987,  401,  552,  487,  407,  744,  551,  435, 1046,  579,\n",
       "        746,  494,  400,  647, 1057,  556,  363,  812,  658,  741, 1335,\n",
       "       1423,  565,  699,  632,  811,  921, 1437,  449,  972,  977,  888,\n",
       "        599, 1492,  670,  804, 1242,  730, 1342, 1423, 1014,  848, 1018,\n",
       "        843, 1088,  574,  601,  964,  373,  718,  434,  566, 1434,  935,\n",
       "       1048, 1486,  591, 1069,  616,  772, 1041, 1233, 1059, 1399, 1483,\n",
       "       1120, 1197,  819, 1373, 1146, 1046,  820,  923,  990,  588, 1103,\n",
       "       1093, 1393, 1114, 1185,  882,  453,  472,  675, 1193, 1434,  994,\n",
       "       1280, 1469, 1098, 1067,  528,  499,  949, 1359,  444,  336,  985,\n",
       "        398,  281,  398], dtype=int64)"
      ]
     },
     "execution_count": 15,
     "metadata": {},
     "output_type": "execute_result"
    }
   ],
   "source": [
    "y"
   ]
  },
  {
   "cell_type": "code",
   "execution_count": 16,
   "id": "a670f992",
   "metadata": {},
   "outputs": [
    {
     "name": "stdout",
     "output_type": "stream",
     "text": [
      "Shape of X_train::  (134,)\n",
      "Shape of y_train::  (134,)\n",
      "Shape of X_test::  (34,)\n",
      "Shape of y_test::  (34,)\n",
      "\n",
      "Shape of X_train::  (134, 1)\n",
      "Shape of y_train::  (134,)\n",
      "Shape of X_test::  (34, 1)\n",
      "Shape of y_test::  (34,)\n"
     ]
    }
   ],
   "source": [
    "print('Shape of X_train:: ', x_train.shape)\n",
    "print('Shape of y_train:: ', y_train.shape)\n",
    "print('Shape of X_test:: ', x_test.shape)\n",
    "print('Shape of y_test:: ', y_test.shape)\n",
    "\n",
    "x_train= x_train.reshape(-1, 1)\n",
    "x_test = x_test.reshape(-1, 1)\n",
    "\n",
    "print('\\nShape of X_train:: ', x_train.shape)\n",
    "print('Shape of y_train:: ', y_train.shape)\n",
    "print('Shape of X_test:: ', x_test.shape)\n",
    "print('Shape of y_test:: ', y_test.shape)"
   ]
  },
  {
   "cell_type": "code",
   "execution_count": 17,
   "id": "f9480c7a",
   "metadata": {},
   "outputs": [],
   "source": [
    "model = linear_model.LinearRegression()\n",
    "model.fit(x_train, y_train)\n",
    "y_pred = model.predict(x_test)"
   ]
  },
  {
   "cell_type": "code",
   "execution_count": 18,
   "id": "27b23714",
   "metadata": {},
   "outputs": [
    {
     "data": {
      "image/png": "[encoded data removed]",
      "text/plain": [
       "<Figure size 1440x720 with 1 Axes>"
      ]
     },
     "metadata": {
      "needs_background": "light"
     },
     "output_type": "display_data"
    }
   ],
   "source": [
    "plt.figure(figsize=(20,10))\n",
    "plt.scatter(x_test, y_test, color='black')\n",
    "plt.plot(x_test, y_pred, color='blue', linewidth=3)\n",
    "\n",
    "plt.xlabel(\"Course Code\")\n",
    "plt.ylabel(\"no. of admissions\")\n",
    "plt.title(\"Admission Prediction\")\n"
   ]
  },
  {
   "cell_type": "code",
   "execution_count": 19,
   "id": "cbeb1e09",
   "metadata": {},
   "outputs": [],
   "source": [
    "dict = { }\n",
    "for key in courses:\n",
    "    for value in clg_code:\n",
    "        dict[key] = value\n",
    "        clg_code.remove(value)\n",
    "        break"
   ]
  },
  {
   "cell_type": "code",
   "execution_count": 20,
   "id": "dddb0870",
   "metadata": {},
   "outputs": [
    {
     "name": "stdout",
     "output_type": "stream",
     "text": [
      "{'Automobile Engineering': 1, 'Big data': 2, 'Civil Engineering': 3, 'Electrical Engineering ': 4, 'Internet of things': 5, 'Mechanical Engineering': 6, 'artificial Intelligence and machine learning': 7, 'cloud computing': 8, 'computer application': 9, 'computer science': 10, 'electronics and communication engineering': 11, 'information security': 12}\n"
     ]
    }
   ],
   "source": [
    "print(dict)"
   ]
  },
  {
   "cell_type": "code",
   "execution_count": 21,
   "id": "384b5a1c",
   "metadata": {},
   "outputs": [
    {
     "name": "stdout",
     "output_type": "stream",
     "text": [
      "==================================================\n",
      "Enter the name of the course: \n",
      "computer science\n",
      "Maximum no. of admissions in computer science can be: 772\n"
     ]
    }
   ],
   "source": [
    "col=df.columns.tolist()[1:2]\n",
    "x = []\n",
    "for i in col:\n",
    "    print(\"==================================================\")\n",
    "    val = input(\"Enter the name of the course: \\n\")\n",
    "    if val in dict:\n",
    "        x.append(dict.get(val))\n",
    "\n",
    "userpreddt=model.predict([x])\n",
    "print(\"Maximum no. of admissions in\",val + \" can be:\",int(userpreddt))\n"
   ]
  },
  {
   "cell_type": "code",
   "execution_count": null,
   "id": "56f06409",
   "metadata": {},
   "outputs": [],
   "source": []
  },
  {
   "cell_type": "code",
   "execution_count": null,
   "id": "8aa21c86",
   "metadata": {},
   "outputs": [],
   "source": []
  }
 ],
 "metadata": {
  "kernelspec": {
   "display_name": "Python 3",
   "language": "python",
   "name": "python3"
  },
  "language_info": {
   "codemirror_mode": {
    "name": "ipython",
    "version": 3
   },
   "file_extension": ".py",
   "mimetype": "text/x-python",
   "name": "python",
   "nbconvert_exporter": "python",
   "pygments_lexer": "ipython3",
   "version": "3.8.8"
  }
 },
 "nbformat": 4,
 "nbformat_minor": 5
}

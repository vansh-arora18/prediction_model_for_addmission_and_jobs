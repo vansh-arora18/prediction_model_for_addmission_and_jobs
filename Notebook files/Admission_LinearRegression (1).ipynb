{
 "cells": [
  {
   "cell_type": "markdown",
   "metadata": {
    "id": "C2Nqtj5Zr1Qa"
   },
   "source": [
    "# *ADMISSION PREDICTION*"
   ]
  },
  {
   "cell_type": "code",
   "execution_count": 1,
   "metadata": {
    "colab": {
     "base_uri": "https://localhost:8080/",
     "height": 195
    },
    "id": "2ClwXSCfFH8j",
    "outputId": "122739b4-1221-4a76-b73c-212dd8a8993f"
   },
   "outputs": [
    {
     "data": {
      "text/html": [
       "<div>\n",
       "<style scoped>\n",
       "    .dataframe tbody tr th:only-of-type {\n",
       "        vertical-align: middle;\n",
       "    }\n",
       "\n",
       "    .dataframe tbody tr th {\n",
       "        vertical-align: top;\n",
       "    }\n",
       "\n",
       "    .dataframe thead th {\n",
       "        text-align: right;\n",
       "    }\n",
       "</style>\n",
       "<table border=\"1\" class=\"dataframe\">\n",
       "  <thead>\n",
       "    <tr style=\"text-align: right;\">\n",
       "      <th></th>\n",
       "      <th>Year</th>\n",
       "      <th>10th Marks</th>\n",
       "      <th>12th Marks</th>\n",
       "      <th>12th Division</th>\n",
       "      <th>AIEEE Rank</th>\n",
       "      <th>College</th>\n",
       "    </tr>\n",
       "  </thead>\n",
       "  <tbody>\n",
       "    <tr>\n",
       "      <th>0</th>\n",
       "      <td>2015</td>\n",
       "      <td>95</td>\n",
       "      <td>92</td>\n",
       "      <td>2</td>\n",
       "      <td>100</td>\n",
       "      <td>IIT delhi</td>\n",
       "    </tr>\n",
       "    <tr>\n",
       "      <th>1</th>\n",
       "      <td>2015</td>\n",
       "      <td>75</td>\n",
       "      <td>88</td>\n",
       "      <td>3</td>\n",
       "      <td>1023</td>\n",
       "      <td>VIT vellore</td>\n",
       "    </tr>\n",
       "    <tr>\n",
       "      <th>2</th>\n",
       "      <td>2015</td>\n",
       "      <td>83</td>\n",
       "      <td>84</td>\n",
       "      <td>6</td>\n",
       "      <td>2935</td>\n",
       "      <td>Ahemedabad IT</td>\n",
       "    </tr>\n",
       "    <tr>\n",
       "      <th>3</th>\n",
       "      <td>2015</td>\n",
       "      <td>75</td>\n",
       "      <td>91</td>\n",
       "      <td>8</td>\n",
       "      <td>5647</td>\n",
       "      <td>University college of ENGG</td>\n",
       "    </tr>\n",
       "    <tr>\n",
       "      <th>4</th>\n",
       "      <td>2015</td>\n",
       "      <td>94</td>\n",
       "      <td>94</td>\n",
       "      <td>9</td>\n",
       "      <td>3564</td>\n",
       "      <td>SRMIST chennai</td>\n",
       "    </tr>\n",
       "  </tbody>\n",
       "</table>\n",
       "</div>"
      ],
      "text/plain": [
       "   Year  10th Marks  12th Marks  12th Division  AIEEE Rank  \\\n",
       "0  2015          95          92              2         100   \n",
       "1  2015          75          88              3        1023   \n",
       "2  2015          83          84              6        2935   \n",
       "3  2015          75          91              8        5647   \n",
       "4  2015          94          94              9        3564   \n",
       "\n",
       "                      College  \n",
       "0                   IIT delhi  \n",
       "1                 VIT vellore  \n",
       "2               Ahemedabad IT  \n",
       "3  University college of ENGG  \n",
       "4              SRMIST chennai  "
      ]
     },
     "execution_count": 1,
     "metadata": {},
     "output_type": "execute_result"
    }
   ],
   "source": [
    "#import packages\n",
    "import pandas as pd\n",
    "import numpy as np\n",
    "\n",
    "#to plot within notebook\n",
    "import matplotlib.pyplot as plt\n",
    "%matplotlib inline\n",
    "\n",
    "#setting figure size\n",
    "from matplotlib.pylab import rcParams\n",
    "rcParams['figure.figsize'] = 20,10\n",
    "\n",
    "#read the file\n",
    "df = pd.read_csv('college admission prediction.csv')\n",
    "\n",
    "#print the head\n",
    "df.head()"
   ]
  },
  {
   "cell_type": "code",
   "execution_count": 2,
   "metadata": {},
   "outputs": [
    {
     "data": {
      "text/html": [
       "<div>\n",
       "<style scoped>\n",
       "    .dataframe tbody tr th:only-of-type {\n",
       "        vertical-align: middle;\n",
       "    }\n",
       "\n",
       "    .dataframe tbody tr th {\n",
       "        vertical-align: top;\n",
       "    }\n",
       "\n",
       "    .dataframe thead th {\n",
       "        text-align: right;\n",
       "    }\n",
       "</style>\n",
       "<table border=\"1\" class=\"dataframe\">\n",
       "  <thead>\n",
       "    <tr style=\"text-align: right;\">\n",
       "      <th></th>\n",
       "      <th>Year</th>\n",
       "      <th>10th Marks</th>\n",
       "      <th>12th Marks</th>\n",
       "      <th>12th Division</th>\n",
       "      <th>AIEEE Rank</th>\n",
       "      <th>College</th>\n",
       "    </tr>\n",
       "  </thead>\n",
       "  <tbody>\n",
       "    <tr>\n",
       "      <th>0</th>\n",
       "      <td>2015</td>\n",
       "      <td>95</td>\n",
       "      <td>92</td>\n",
       "      <td>2</td>\n",
       "      <td>100</td>\n",
       "      <td>IIT delhi</td>\n",
       "    </tr>\n",
       "    <tr>\n",
       "      <th>1</th>\n",
       "      <td>2015</td>\n",
       "      <td>75</td>\n",
       "      <td>88</td>\n",
       "      <td>3</td>\n",
       "      <td>1023</td>\n",
       "      <td>VIT vellore</td>\n",
       "    </tr>\n",
       "    <tr>\n",
       "      <th>2</th>\n",
       "      <td>2015</td>\n",
       "      <td>83</td>\n",
       "      <td>84</td>\n",
       "      <td>6</td>\n",
       "      <td>2935</td>\n",
       "      <td>Ahemedabad IT</td>\n",
       "    </tr>\n",
       "    <tr>\n",
       "      <th>3</th>\n",
       "      <td>2015</td>\n",
       "      <td>75</td>\n",
       "      <td>91</td>\n",
       "      <td>8</td>\n",
       "      <td>5647</td>\n",
       "      <td>University college of ENGG</td>\n",
       "    </tr>\n",
       "    <tr>\n",
       "      <th>4</th>\n",
       "      <td>2015</td>\n",
       "      <td>94</td>\n",
       "      <td>94</td>\n",
       "      <td>9</td>\n",
       "      <td>3564</td>\n",
       "      <td>SRMIST chennai</td>\n",
       "    </tr>\n",
       "    <tr>\n",
       "      <th>...</th>\n",
       "      <td>...</td>\n",
       "      <td>...</td>\n",
       "      <td>...</td>\n",
       "      <td>...</td>\n",
       "      <td>...</td>\n",
       "      <td>...</td>\n",
       "    </tr>\n",
       "    <tr>\n",
       "      <th>999</th>\n",
       "      <td>2019</td>\n",
       "      <td>89</td>\n",
       "      <td>81</td>\n",
       "      <td>3</td>\n",
       "      <td>4523</td>\n",
       "      <td>IIT jodhpur</td>\n",
       "    </tr>\n",
       "    <tr>\n",
       "      <th>1000</th>\n",
       "      <td>2019</td>\n",
       "      <td>93</td>\n",
       "      <td>88</td>\n",
       "      <td>1</td>\n",
       "      <td>5511</td>\n",
       "      <td>BIT Mesra</td>\n",
       "    </tr>\n",
       "    <tr>\n",
       "      <th>1001</th>\n",
       "      <td>2019</td>\n",
       "      <td>86</td>\n",
       "      <td>93</td>\n",
       "      <td>1</td>\n",
       "      <td>100</td>\n",
       "      <td>IIT Bombay</td>\n",
       "    </tr>\n",
       "    <tr>\n",
       "      <th>1002</th>\n",
       "      <td>2019</td>\n",
       "      <td>85</td>\n",
       "      <td>89</td>\n",
       "      <td>9</td>\n",
       "      <td>515</td>\n",
       "      <td>IIT hydrabad</td>\n",
       "    </tr>\n",
       "    <tr>\n",
       "      <th>1003</th>\n",
       "      <td>2019</td>\n",
       "      <td>78</td>\n",
       "      <td>85</td>\n",
       "      <td>11</td>\n",
       "      <td>1730</td>\n",
       "      <td>IIT indore</td>\n",
       "    </tr>\n",
       "  </tbody>\n",
       "</table>\n",
       "<p>1004 rows × 6 columns</p>\n",
       "</div>"
      ],
      "text/plain": [
       "      Year  10th Marks  12th Marks  12th Division  AIEEE Rank  \\\n",
       "0     2015          95          92              2         100   \n",
       "1     2015          75          88              3        1023   \n",
       "2     2015          83          84              6        2935   \n",
       "3     2015          75          91              8        5647   \n",
       "4     2015          94          94              9        3564   \n",
       "...    ...         ...         ...            ...         ...   \n",
       "999   2019          89          81              3        4523   \n",
       "1000  2019          93          88              1        5511   \n",
       "1001  2019          86          93              1         100   \n",
       "1002  2019          85          89              9         515   \n",
       "1003  2019          78          85             11        1730   \n",
       "\n",
       "                         College  \n",
       "0                      IIT delhi  \n",
       "1                    VIT vellore  \n",
       "2                  Ahemedabad IT  \n",
       "3     University college of ENGG  \n",
       "4                 SRMIST chennai  \n",
       "...                          ...  \n",
       "999                  IIT jodhpur  \n",
       "1000                   BIT Mesra  \n",
       "1001                  IIT Bombay  \n",
       "1002                IIT hydrabad  \n",
       "1003                  IIT indore  \n",
       "\n",
       "[1004 rows x 6 columns]"
      ]
     },
     "execution_count": 2,
     "metadata": {},
     "output_type": "execute_result"
    }
   ],
   "source": [
    "df\n"
   ]
  },
  {
   "cell_type": "code",
   "execution_count": 3,
   "metadata": {
    "colab": {
     "base_uri": "https://localhost:8080/",
     "height": 346
    },
    "id": "72VDhHpmYoAI",
    "outputId": "efcdb6f8-122b-4d89-b1d6-f960b680c1e1"
   },
   "outputs": [
    {
     "name": "stdout",
     "output_type": "stream",
     "text": [
      "['Ahemedabad IT' 'BIT Mesra' 'BITS pilani' 'BMS college of ENGG'\n",
      " 'DTU delhi' 'HBUT kanpur' 'IIEST shibpur' 'IIIT hydrabad' 'IIT Bombay'\n",
      " 'IIT bhilai' 'IIT delhi' 'IIT goa' 'IIT guwahati' 'IIT hydrabad'\n",
      " 'IIT indore' 'IIT jammu' 'IIT jodhpur' 'IIT kanpur' 'IIT kharagpur'\n",
      " 'IIT mandi' 'IIT palakkad' 'IIT ropar' 'IIT tirupati'\n",
      " 'Jadavpur Univversity' 'KLEF hydrabad' 'MNIT jaipur' 'MNNIT allahabad'\n",
      " 'MSIT' 'Manipal IT' 'NIT trichy' 'NIT warangal' 'NMIMS'\n",
      " 'Netaji Subhas IT' 'S O A  university' 'SRMIST chennai'\n",
      " 'SSN college of ENGG' 'University college of ENGG' 'VIT vellore']\n"
     ]
    },
    {
     "data": {
      "text/html": [
       "<div>\n",
       "<style scoped>\n",
       "    .dataframe tbody tr th:only-of-type {\n",
       "        vertical-align: middle;\n",
       "    }\n",
       "\n",
       "    .dataframe tbody tr th {\n",
       "        vertical-align: top;\n",
       "    }\n",
       "\n",
       "    .dataframe thead th {\n",
       "        text-align: right;\n",
       "    }\n",
       "</style>\n",
       "<table border=\"1\" class=\"dataframe\">\n",
       "  <thead>\n",
       "    <tr style=\"text-align: right;\">\n",
       "      <th></th>\n",
       "      <th>Year</th>\n",
       "      <th>10th Marks</th>\n",
       "      <th>12th Marks</th>\n",
       "      <th>12th Division</th>\n",
       "      <th>AIEEE Rank</th>\n",
       "      <th>College</th>\n",
       "    </tr>\n",
       "  </thead>\n",
       "  <tbody>\n",
       "    <tr>\n",
       "      <th>0</th>\n",
       "      <td>2015</td>\n",
       "      <td>95</td>\n",
       "      <td>92</td>\n",
       "      <td>2</td>\n",
       "      <td>100</td>\n",
       "      <td>11</td>\n",
       "    </tr>\n",
       "    <tr>\n",
       "      <th>1</th>\n",
       "      <td>2015</td>\n",
       "      <td>75</td>\n",
       "      <td>88</td>\n",
       "      <td>3</td>\n",
       "      <td>1023</td>\n",
       "      <td>38</td>\n",
       "    </tr>\n",
       "    <tr>\n",
       "      <th>2</th>\n",
       "      <td>2015</td>\n",
       "      <td>83</td>\n",
       "      <td>84</td>\n",
       "      <td>6</td>\n",
       "      <td>2935</td>\n",
       "      <td>1</td>\n",
       "    </tr>\n",
       "    <tr>\n",
       "      <th>3</th>\n",
       "      <td>2015</td>\n",
       "      <td>75</td>\n",
       "      <td>91</td>\n",
       "      <td>8</td>\n",
       "      <td>5647</td>\n",
       "      <td>37</td>\n",
       "    </tr>\n",
       "    <tr>\n",
       "      <th>4</th>\n",
       "      <td>2015</td>\n",
       "      <td>94</td>\n",
       "      <td>94</td>\n",
       "      <td>9</td>\n",
       "      <td>3564</td>\n",
       "      <td>35</td>\n",
       "    </tr>\n",
       "  </tbody>\n",
       "</table>\n",
       "</div>"
      ],
      "text/plain": [
       "   Year  10th Marks  12th Marks  12th Division  AIEEE Rank  College\n",
       "0  2015          95          92              2         100       11\n",
       "1  2015          75          88              3        1023       38\n",
       "2  2015          83          84              6        2935        1\n",
       "3  2015          75          91              8        5647       37\n",
       "4  2015          94          94              9        3564       35"
      ]
     },
     "execution_count": 3,
     "metadata": {},
     "output_type": "execute_result"
    }
   ],
   "source": [
    "college=np.unique(df['College'])\n",
    "print(college)\n",
    "clg_code=[]\n",
    "for i in range(len(college)):\n",
    "    clg_code.append(i+1)\n",
    "# clg_code\n",
    "df['College']=df['College'].replace(college,clg_code)\n",
    "bak_college=np.array(df['College'])\n",
    "df.head()"
   ]
  },
  {
   "cell_type": "code",
   "execution_count": 4,
   "metadata": {
    "colab": {
     "base_uri": "https://localhost:8080/",
     "height": 168
    },
    "id": "H_crkyJ9YXic",
    "outputId": "13602891-2aaf-444f-e3fa-29fd28a75876"
   },
   "outputs": [
    {
     "name": "stdout",
     "output_type": "stream",
     "text": [
      "Shape of X_train::  (803,)\n",
      "Shape of y_train::  (803,)\n",
      "Shape of X_test::  (201,)\n",
      "Shape of y_test::  (201,)\n",
      "\n",
      "Shape of X_train::  (803, 1)\n",
      "Shape of y_train::  (803,)\n",
      "Shape of X_test::  (201, 1)\n",
      "Shape of y_test::  (201,)\n"
     ]
    }
   ],
   "source": [
    "from sklearn import datasets, linear_model\n",
    "from sklearn.model_selection import train_test_split\n",
    "\n",
    "# Using only one feature\n",
    "x = df.iloc[:, 4].values\n",
    "y = df.iloc[:, 5].values\n",
    "\n",
    "# Split the data\n",
    "x_train, x_test, y_train, y_test = train_test_split(x, y, test_size= 0.2, random_state=0)\n",
    "\n",
    "print('Shape of X_train:: ', x_train.shape)\n",
    "print('Shape of y_train:: ', y_train.shape)\n",
    "print('Shape of X_test:: ', x_test.shape)\n",
    "print('Shape of y_test:: ', y_test.shape)\n",
    "\n",
    "x_train= x_train.reshape(-1, 1)\n",
    "x_test = x_test.reshape(-1, 1)\n",
    "\n",
    "print('\\nShape of X_train:: ', x_train.shape)\n",
    "print('Shape of y_train:: ', y_train.shape)\n",
    "print('Shape of X_test:: ', x_test.shape)\n",
    "print('Shape of y_test:: ', y_test.shape)"
   ]
  },
  {
   "cell_type": "code",
   "execution_count": 5,
   "metadata": {
    "colab": {
     "base_uri": "https://localhost:8080/",
     "height": 628
    },
    "id": "hmsySoxda7iu",
    "outputId": "d71077be-49a6-4246-a623-91522302f88f"
   },
   "outputs": [
    {
     "name": "stdout",
     "output_type": "stream",
     "text": [
      "Coefficient: [0.00021998]\n",
      "RMSE: 11.64\n"
     ]
    },
    {
     "data": {
      "image/png": "[encoded data removed]",
      "text/plain": [
       "<Figure size 1440x720 with 1 Axes>"
      ]
     },
     "metadata": {
      "needs_background": "light"
     },
     "output_type": "display_data"
    },
    {
     "name": "stdout",
     "output_type": "stream",
     "text": [
      "[19.77181098 20.58375941 20.05558597 19.41544239 20.00631031 19.96539392\n",
      " 20.05470604 19.36440689 20.985444   20.00631031 19.32261057 20.51446552\n",
      " 19.77181098 19.86552272 20.10662147 19.52719254 20.29646473 20.20847249\n",
      " 19.96539392 20.29470489 19.94779547 19.49001582 19.41544239 19.84242475\n",
      " 19.73771398 20.07648412 20.55362206 20.10552156 20.29646473 19.52719254\n",
      " 20.07648412 20.08572331 20.58375941 21.47028126 19.84242475 19.51883328\n",
      " 19.32195063 19.9656139  20.20847249 19.84242475 20.51842517 20.51446552\n",
      " 19.7421136  20.29646473 19.36440689 20.00917006 19.93239682 19.92073785\n",
      " 20.985444   19.35934734 19.9293171  19.86618266 19.36440689 20.30570392\n",
      " 20.29712467 20.00939004 19.32415044 20.53668356 20.12180013 19.68865831\n",
      " 20.00631031 20.29712467 19.96187423 19.96187423 19.57316849 19.95901448\n",
      " 19.35098807 20.09848218 19.63938265 20.07648412 19.96473397 19.72583503\n",
      " 21.03032005 20.20847249 19.35824743 20.58375941 20.10662147 20.00939004\n",
      " 20.07648412 20.42911304 20.51842517 19.96473397 19.77401079 19.32415044\n",
      " 19.92997704 19.88598092 20.20847249 20.45265096 20.985444   20.07626414\n",
      " 21.47512084 20.3070238  19.32371048 20.08682321 19.51883328 19.95241506\n",
      " 20.51446552 19.36440689 19.44557974 20.20847249 19.95241506 19.95241506\n",
      " 20.54438288 19.51883328 21.47028126 20.00631031 20.08572331 20.09848218\n",
      " 20.45265096 19.74497334 19.92073785 20.07472428 20.09848218 20.29668471\n",
      " 20.20847249 20.30570392 20.09848218 20.08616327 20.08550333 19.77181098\n",
      " 19.35604763 19.92997704 20.20847249 20.00631031 19.94779547 20.29712467\n",
      " 19.57316849 19.43414074 19.92997704 19.96539392 19.95241506 20.07648412\n",
      " 20.17239567 20.80791965 19.41544239 19.84242475 19.96473397 20.08550333\n",
      " 19.9893718  19.39344433 19.77401079 20.80791965 20.13565891 19.82042669\n",
      " 20.01840924 19.9519751  20.53668356 20.29646473 20.36553864 19.52719254\n",
      " 21.47226109 19.52719254 20.30570392 19.32195063 19.9519751  19.7421136\n",
      " 19.78896947 21.47028126 20.07648412 20.00631031 19.96209421 20.20913243\n",
      " 20.51446552 19.34856829 20.00939004 19.95241506 19.41544239 20.3070238\n",
      " 20.985444   19.84242475 19.32415044 20.29712467 19.77401079 20.83871693\n",
      " 19.41544239 19.88598092 20.30636386 20.00631031 21.03032005 19.74541331\n",
      " 19.95241506 20.30570392 20.42911304 20.30570392 21.03032005 20.17437549\n",
      " 19.68271883 19.57316849 19.78940943 19.74541331 20.07648412 19.86244299\n",
      " 19.77181098 19.78281001 21.03032005 20.32682206 19.78940943 19.86552272\n",
      " 20.29470489 20.20847249 19.93239682]\n"
     ]
    }
   ],
   "source": [
    "model = linear_model.LinearRegression()\n",
    "model.fit(x_train, y_train)\n",
    "y_pred = model.predict(x_test)\n",
    "\n",
    "print('Coefficient:', model.coef_)\n",
    "print(\"RMSE: %.2f\" % np.sqrt(np.mean((model.predict(x_test) - y_test) ** 2)))\n",
    "\n",
    "plt.figure(figsize=(20,10))\n",
    "plt.scatter(x_test, y_test,  color='black')\n",
    "plt.plot(x_test, y_pred, color='blue', linewidth=3)\n",
    "\n",
    "plt.xlabel(\"AIEEE Rank\")\n",
    "plt.ylabel(\"College Code\")\n",
    "plt.title(\"Admission Prediction\")\n",
    "plt.show()\n",
    "print(y_pred)"
   ]
  },
  {
   "cell_type": "code",
   "execution_count": 6,
   "metadata": {
    "colab": {
     "base_uri": "https://localhost:8080/",
     "height": 84
    },
    "id": "Jo0NPOUQZyOd",
    "outputId": "8ee05794-922f-4048-83ca-931dcc8ddb0a"
   },
   "outputs": [
    {
     "name": "stdout",
     "output_type": "stream",
     "text": [
      "['AIEEE Rank']\n",
      "==================================================\n"
     ]
    }
   ],
   "source": [
    "col=df.columns.tolist()[4:5]\n",
    "print(col)\n",
    "usrip=[]\n",
    "for i in col:\n",
    "    print(\"==================================================\")\n",
    "    usrip.append(eval(input(i+\": \")))\n",
    "    print(usrip)\n",
    "\n",
    "userpreddt=model.predict([usrip])\n",
    "print(\"You may have a chance to get entrance in: \",college[clg_code.index(int(userpreddt[0]))])"
   ]
  },
  {
   "cell_type": "code",
   "execution_count": null,
   "metadata": {},
   "outputs": [
    {
     "ename": "",
     "evalue": "",
     "output_type": "error",
     "traceback": [
      "\u001b[1;31mRunning cells with '/usr/bin/python3' requires the ipykernel package.\n",
      "\u001b[1;31mRun the following command to install 'ipykernel' into the Python environment. \n",
      "\u001b[1;31mCommand: '/usr/bin/python3 -m pip install ipykernel -U --user --force-reinstall'"
     ]
    }
   ],
   "source": []
  }
 ],
 "metadata": {
  "colab": {
   "collapsed_sections": [],
   "name": "SIH_module1_Admission_LinearRegression.ipynb",
   "provenance": []
  },
  "kernelspec": {
   "display_name": "Python 3",
   "language": "python",
   "name": "python3"
  },
  "language_info": {
   "codemirror_mode": {
    "name": "ipython",
    "version": 3
   },
   "file_extension": ".py",
   "mimetype": "text/x-python",
   "name": "python",
   "nbconvert_exporter": "python",
   "pygments_lexer": "ipython3",
   "version": "3.8.5"
  }
 },
 "nbformat": 4,
 "nbformat_minor": 1
}
